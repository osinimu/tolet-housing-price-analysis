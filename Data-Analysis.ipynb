{
 "cells": [
  {
   "cell_type": "code",
   "execution_count": 54,
   "metadata": {
    "scrolled": false
   },
   "outputs": [
    {
     "name": "stdout",
     "output_type": "stream",
     "text": [
      "Populating the interactive namespace from numpy and matplotlib\n"
     ]
    }
   ],
   "source": [
    "import pandas as pd\n",
    "import numpy as np\n",
    "%pylab inline\n",
    "import matplotlib\n",
    "from matplotlib import pyplot as plt\n",
    "matplotlib.rc('axes.formatter', useoffset=False)\n",
    "from scipy import stats\n",
    "import seaborn as sns\n",
    "from ggplot import *\n",
    "import statsmodels.api as sm\n",
    "from statsmodels.formula.api import ols\n",
    "\n",
    "matplotlib.rc('axes.formatter', useoffset=False)\n",
    "pd.set_option('display.float_format', lambda x: '%.3f' % x)\n",
    "\n",
    "\n",
    "sale = pd.read_csv('sale.csv') \n",
    "rent = pd.read_csv('rent.csv')\n",
    "ned ={'Victoria Island':'VI', \n",
    "      'Abule Egba':'Abule-Egba', \n",
    "      'Amuwo Odofin':'Amuwo-Odofin', \n",
    "      'Iddo Island':'Iddo-Island', \n",
    "      'Victoria Garden City': 'VGC',\n",
    "      'Lagos Island': 'Lagos-Island',\n",
    "      'Ibeju Lekki': 'Ibeju-Lekki',\n",
    "      'Ifako Ijaiye': 'Ifako-Ijaiye'}\n",
    "\n",
    "for i,j in ned.iteritems():\n",
    "        sale['Address']= sale['Address'].str.replace(i, j)\n",
    "        rent['Address']= rent['Address'].str.replace(i, j)\n",
    "\n"
   ]
  },
  {
   "cell_type": "code",
   "execution_count": 55,
   "metadata": {
    "collapsed": true,
    "scrolled": true
   },
   "outputs": [],
   "source": [
    "#Classify the address of a properties into their various neighboorhood i.e \"7, chevy view, Lekki phase 1, lekkt, lagos\" to \"Lekki\"\n",
    "\n",
    "#A  list of all the neighboorhoods in lagos\n",
    "Place= pd.read_csv('neighboorhoods.txt')\n",
    "Place = Place['Neighboorhood'].astype(str).values.tolist()\n",
    "\n",
    "#Extract the Neighboorhood of each property from the Address column into a new column: Neighboorhood\n",
    "sale['Neighboorhood'] = sale.iloc[:, 3].str.extract('(' + '|'.join(Place) + ')', expand=False)\n",
    "rent['Neighboorhood'] = rent.iloc[:, 3].str.extract('(' + '|'.join(Place) + ')', expand=False)\n",
    "\n",
    "# remove unwanted text from the Price column\n",
    "remove_string = {' / year': '', \n",
    "                 ' / sqm': '',\n",
    "                 ' / sqf': '',\n",
    "                 ' / day': '',\n",
    "                 ',':''}\n",
    "\n",
    "for i,j in remove_string.iteritems():\n",
    "    sale['Price'] = sale['Price'].str.replace(i, j)\n",
    "    rent['Price'] = rent['Price'].str.replace(i, j)\n",
    "\n",
    "#check for empty values in the dataset\n",
    "nan_rows = rent[rent.isnull().T.any().T]\n",
    "\n",
    "sale['Price'] = sale['Price'].astype(float)\n",
    "rent['Price'] = rent['Price'].astype(float)\n",
    "\n",
    "#rent.to_csv('rent_2.csv')\n",
    "#sale.to_csv('sale_2.csv')           \n"
   ]
  },
  {
   "cell_type": "code",
   "execution_count": 62,
   "metadata": {
    "scrolled": true
   },
   "outputs": [
    {
     "name": "stdout",
     "output_type": "stream",
     "text": [
      "   Neighboorhood   avgsale_price  count_sale  avgrent_price  count_rent  count\n",
      "0     Abule-Egba   793563186.813          91    1253571.429          98     91\n",
      "1          Agege    65565217.391          92    1178214.286          56     56\n",
      "2           Ajah   108854718.358         690    1041328.829         444    444\n",
      "3        Alapere    38809047.619          63    1140235.294          85     63\n",
      "4       Alimosho    47120879.121          91     579870.690         116     91\n",
      "5   Amuwo-Odofin  1118604845.362         199     998549.640         139    139\n",
      "6          Apapa 26303458333.333          60   16702858.065          31     31\n",
      "7        Badagry   524803333.333          45    1377058.824          17     17\n",
      "8         Bariga    42686111.111          18     512181.818          55     18\n",
      "9         Ejigbo    32647058.824          17    1325000.000           6      6\n",
      "10           Epe    21448809.524          42   12000000.000           1      1\n",
      "11       Gbagada    54198214.286         168    1327274.428         481    168\n",
      "12   Ibeju-Lekki   105329191.514         872    1574137.931          29     29\n",
      "13         Idimu    62559375.000          32     737222.222          18     18\n",
      "14  Ifako-Ijaiye    35000000.000           1     583333.333           3      1\n",
      "15        Igando    48164341.085         129     904146.341          41     41\n",
      "16         Ijora    75000000.000           2      20000.000           1      1\n",
      "17         Ikeja  2800973993.949         661    3771162.496         794    661\n",
      "18       Ikorodu    70396446.797         359    2880600.000         169    169\n",
      "19         Ikosi   370500000.000          22     919157.143          21     21\n",
      "20         Ikoyi   867429146.912         599   11131546.279         551    551\n",
      "21       Ilupeju   148695652.174          23    1721732.857          70     23\n",
      "22         Ipaja    18921385.281         231     395060.729         247    231\n",
      "23         Isolo   153949186.992         123     945936.073         219    123\n",
      "24        Kosofe    99176369.863         292    2492914.384         292    292\n",
      "25  Lagos-Island   258187076.923          26    1192885.714          21     21\n",
      "26         Lekki   308250887.904        2543    3717498.541        1714   1714\n",
      "27      Maryland   199638965.517         145    2380351.351         185    145\n",
      "28        Mushin   128941176.471          17     652559.091          22     17\n",
      "29          Ogba   161748241.206         199    1354612.162         296    199\n",
      "30         Ogudu   143657258.065         124    1812258.065         155    124\n",
      "31           Ojo    99137944.162         394    1085686.364         550    394\n",
      "32         Okota    56651515.152         132     725317.431         218    132\n",
      "33         Orile  8511800000.000          10    1493750.000           8      8\n",
      "34        Oshodi   437884615.385          52     897518.056          72     52\n",
      "35     Sangotedo    47400207.831         355    1337195.122         164    164\n",
      "36       Shomolu   117064102.564          39     622961.373         233     39\n",
      "37      Surulere    95207300.885         226    1057571.417         621    226\n",
      "38           VGC   248369000.000          30    2581666.667           6      6\n",
      "39            VI  1848386502.296         314    6318622.606         472    314\n",
      "40          Yaba   421749218.750         256     938956.637        1130    256\n"
     ]
    },
    {
     "data": {
      "image/png": "[encoded data removed]",
      "text/plain": [
       "<matplotlib.figure.Figure at 0xbf1bf90>"
      ]
     },
     "metadata": {},
     "output_type": "display_data"
    }
   ],
   "source": [
    "# for sale\n",
    "\n",
    "group = sale.groupby('Neighboorhood')\n",
    "avg_priceSale = pd.DataFrame(group['Price'].agg('mean'))\n",
    "avg_priceSale.columns = ['Price']\n",
    "avg_priceSale['count']=group['Price'].agg('count')\n",
    "avg_priceSale = avg_priceSale.reset_index()\n",
    "\n",
    "# for rent\n",
    "\n",
    "group = rent.groupby('Neighboorhood')\n",
    "avg_priceRent = pd.DataFrame(group['Price'].agg('mean'))\n",
    "avg_priceRent.columns = ['Price']\n",
    "avg_priceRent['count']=group['Price'].agg('count')\n",
    "#avg_priceRent.reset_index(level='Neighboorhood', inplace=True)\n",
    "avg_priceRent = avg_priceRent.reset_index()\n",
    "\n",
    "\n",
    "#Merge the two datasets  (avg_priceSale and avg_priceRent)\n",
    "dfMerge = pd.merge(avg_priceSale, avg_priceRent, on='Neighboorhood')\n",
    "dfMerge['count']=dfMerge[['count_x','count_y']].min(axis=1)\n",
    "dfMerge.columns = ['Neighboorhood', 'avgsale_price', 'count_sale', 'avgrent_price', 'count_rent', 'count']\n",
    "#print dfMerge\n",
    "\n",
    "dfMerge['avgsale_price'] = dfMerge['avgsale_price'].astype(float)\n",
    "dfMerge['avgrent_price'] = dfMerge['avgrent_price'].astype(float)\n",
    "\n",
    "print dfMerge\n",
    "\n",
    "sns.set(rc={\"figure.figsize\": (12, 6)})\n",
    "sns.distplot(dfMerge['count'], bins=50)\n",
    "dfMerge=dfMerge.loc[dfMerge['count']>=5,]\n",
    "\n",
    "\n",
    "\n",
    "\n",
    "\n"
   ]
  },
  {
   "cell_type": "code",
   "execution_count": 63,
   "metadata": {},
   "outputs": [
    {
     "name": "stdout",
     "output_type": "stream",
     "text": [
      "<class 'pandas.core.frame.DataFrame'>\n",
      "Int64Index: 38 entries, 0 to 40\n",
      "Data columns (total 9 columns):\n",
      "Neighboorhood    38 non-null object\n",
      "avgsale_price    38 non-null float64\n",
      "count_sale       38 non-null int64\n",
      "avgrent_price    38 non-null float64\n",
      "count_rent       38 non-null int64\n",
      "count            38 non-null int64\n",
      "norm_resid       38 non-null float64\n",
      "outlier          38 non-null object\n",
      "name             38 non-null object\n",
      "dtypes: float64(3), int64(3), object(3)\n",
      "memory usage: 3.5+ KB\n"
     ]
    },
    {
     "data": {
      "image/png": "[encoded data removed]",
      "text/plain": [
       "<matplotlib.figure.Figure at 0x135d0550>"
      ]
     },
     "metadata": {},
     "output_type": "display_data"
    }
   ],
   "source": [
    "#model = ols(\"unitPrice_Sale ~ unitPrice_Rent\", data=dfMerge).fit()\n",
    "#sns.regplot(x=\"rent_price\", y=\"sale_price\", data=dfMerge, ax=ax)\n",
    "\n",
    "#dfMerge.index=dfMerge['Neighboorhood']\n",
    "model = ols(\"avgsale_price ~ avgrent_price\", data=dfMerge).fit()\n",
    "\n",
    "dfMerge['norm_resid']=abs(model.resid_pearson)\n",
    "dfMerge['outlier']=np.where(abs(model.resid_pearson)>=2,'outlier','not_outlier')\n",
    "dfMerge['name']=\"\"\n",
    "dfMerge.loc[dfMerge['norm_resid']>=2,'name']=dfMerge.loc[dfMerge['norm_resid']>=2,'Neighboorhood']\n",
    "\n",
    "x=dfMerge['avgrent_price']\n",
    "y=dfMerge['avgsale_price']\n",
    "labels=dfMerge['name']\n",
    "\n",
    "\n",
    "\n",
    "ax = sns.lmplot(x='avgrent_price', y='avgsale_price', data=dfMerge, hue='outlier', size=10)\n",
    "sns.plt.ticklabel_format(style='plain',useOffset=False)\n",
    "for label, x, y in zip(labels, x, y):\n",
    "    sns.plt.annotate(label, xy = (x, y),fontsize = 15)\n",
    "\n",
    "dfMerge.info()\n",
    "\n",
    "\n",
    "\n",
    "#matplotlib.rcParams[\"axes.formatter.useoffset\"] = False\n",
    "#ggplot(dfMerge, aes(x='rent_price',y='sale_price', color='outlier',label='name')) +\\\n",
    "#geom_text(hjust=0, vjust=0, size=20) +\\\n",
    "#geom_point() +\\\n",
    "#scale_y_continuous(labels='percent') +\\\n",
    "#xlab(\"Rent Unit Price\") +\\\n",
    "#ylab(\"Sale Unit Price\") +\\\n",
    "#stat_smooth(color='blue') \n",
    "\n",
    "  "
   ]
  },
  {
   "cell_type": "code",
   "execution_count": 60,
   "metadata": {},
   "outputs": [
    {
     "data": {
      "text/html": [
       "<div>\n",
       "<style>\n",
       "    .dataframe thead tr:only-child th {\n",
       "        text-align: right;\n",
       "    }\n",
       "\n",
       "    .dataframe thead th {\n",
       "        text-align: left;\n",
       "    }\n",
       "\n",
       "    .dataframe tbody tr th {\n",
       "        vertical-align: top;\n",
       "    }\n",
       "</style>\n",
       "<table border=\"1\" class=\"dataframe\">\n",
       "  <thead>\n",
       "    <tr style=\"text-align: right;\">\n",
       "      <th></th>\n",
       "      <th>Neighboorhood</th>\n",
       "      <th>sale_price</th>\n",
       "      <th>rent_price</th>\n",
       "      <th>ratio</th>\n",
       "    </tr>\n",
       "  </thead>\n",
       "  <tbody>\n",
       "    <tr>\n",
       "      <th>33</th>\n",
       "      <td>Orile</td>\n",
       "      <td>8511800000.000</td>\n",
       "      <td>1493750.000</td>\n",
       "      <td>0.000</td>\n",
       "    </tr>\n",
       "    <tr>\n",
       "      <th>6</th>\n",
       "      <td>Apapa</td>\n",
       "      <td>26303458333.333</td>\n",
       "      <td>16702858.065</td>\n",
       "      <td>0.001</td>\n",
       "    </tr>\n",
       "    <tr>\n",
       "      <th>5</th>\n",
       "      <td>Amuwo-Odofin</td>\n",
       "      <td>1118604845.362</td>\n",
       "      <td>998549.640</td>\n",
       "      <td>0.001</td>\n",
       "    </tr>\n",
       "    <tr>\n",
       "      <th>17</th>\n",
       "      <td>Ikeja</td>\n",
       "      <td>2800973993.949</td>\n",
       "      <td>3771162.496</td>\n",
       "      <td>0.001</td>\n",
       "    </tr>\n",
       "    <tr>\n",
       "      <th>0</th>\n",
       "      <td>Abule-Egba</td>\n",
       "      <td>793563186.813</td>\n",
       "      <td>1253571.429</td>\n",
       "      <td>0.002</td>\n",
       "    </tr>\n",
       "  </tbody>\n",
       "</table>\n",
       "</div>"
      ],
      "text/plain": [
       "   Neighboorhood      sale_price   rent_price  ratio\n",
       "33         Orile  8511800000.000  1493750.000  0.000\n",
       "6          Apapa 26303458333.333 16702858.065  0.001\n",
       "5   Amuwo-Odofin  1118604845.362   998549.640  0.001\n",
       "17         Ikeja  2800973993.949  3771162.496  0.001\n",
       "0     Abule-Egba   793563186.813  1253571.429  0.002"
      ]
     },
     "execution_count": 60,
     "metadata": {},
     "output_type": "execute_result"
    },
    {
     "data": {
      "image/png": "[encoded data removed]",
      "text/plain": [
       "<matplotlib.figure.Figure at 0x1050c250>"
      ]
     },
     "metadata": {},
     "output_type": "display_data"
    }
   ],
   "source": [
    "ratio=dfMerge['avgrent_price']/dfMerge['avgsale_price']\n",
    "sns.set(rc={\"figure.figsize\": (12, 6)})\n",
    "sns.distplot(ratio, bins=20)\n",
    "\n",
    "dfMerge['ratio']=ratio\n",
    "dfMerge=dfMerge.sort_values(['ratio'], ascending=True)\n",
    "dfMerge[['Neighboorhood', 'avgsale_price','avgrent_price','ratio']][0:5]"
   ]
  },
  {
   "cell_type": "code",
   "execution_count": 61,
   "metadata": {},
   "outputs": [
    {
     "data": {
      "text/html": [
       "<div>\n",
       "<style>\n",
       "    .dataframe thead tr:only-child th {\n",
       "        text-align: right;\n",
       "    }\n",
       "\n",
       "    .dataframe thead th {\n",
       "        text-align: left;\n",
       "    }\n",
       "\n",
       "    .dataframe tbody tr th {\n",
       "        vertical-align: top;\n",
       "    }\n",
       "</style>\n",
       "<table border=\"1\" class=\"dataframe\">\n",
       "  <thead>\n",
       "    <tr style=\"text-align: right;\">\n",
       "      <th></th>\n",
       "      <th>Neighboorhood</th>\n",
       "      <th>sale_price</th>\n",
       "      <th>rent_price</th>\n",
       "      <th>ratio</th>\n",
       "    </tr>\n",
       "  </thead>\n",
       "  <tbody>\n",
       "    <tr>\n",
       "      <th>18</th>\n",
       "      <td>Ikorodu</td>\n",
       "      <td>70396446.797</td>\n",
       "      <td>2880600.000</td>\n",
       "      <td>0.041</td>\n",
       "    </tr>\n",
       "    <tr>\n",
       "      <th>9</th>\n",
       "      <td>Ejigbo</td>\n",
       "      <td>32647058.824</td>\n",
       "      <td>1325000.000</td>\n",
       "      <td>0.041</td>\n",
       "    </tr>\n",
       "    <tr>\n",
       "      <th>3</th>\n",
       "      <td>Alapere</td>\n",
       "      <td>38809047.619</td>\n",
       "      <td>1140235.294</td>\n",
       "      <td>0.029</td>\n",
       "    </tr>\n",
       "    <tr>\n",
       "      <th>35</th>\n",
       "      <td>Sangotedo</td>\n",
       "      <td>47400207.831</td>\n",
       "      <td>1337195.122</td>\n",
       "      <td>0.028</td>\n",
       "    </tr>\n",
       "    <tr>\n",
       "      <th>24</th>\n",
       "      <td>Kosofe</td>\n",
       "      <td>99176369.863</td>\n",
       "      <td>2492914.384</td>\n",
       "      <td>0.025</td>\n",
       "    </tr>\n",
       "  </tbody>\n",
       "</table>\n",
       "</div>"
      ],
      "text/plain": [
       "   Neighboorhood   sale_price  rent_price  ratio\n",
       "18       Ikorodu 70396446.797 2880600.000  0.041\n",
       "9         Ejigbo 32647058.824 1325000.000  0.041\n",
       "3        Alapere 38809047.619 1140235.294  0.029\n",
       "35     Sangotedo 47400207.831 1337195.122  0.028\n",
       "24        Kosofe 99176369.863 2492914.384  0.025"
      ]
     },
     "execution_count": 61,
     "metadata": {},
     "output_type": "execute_result"
    }
   ],
   "source": [
    "dfMerge[['Neighboorhood', 'avgsale_price','avgrent_price','ratio']][::-1][0:5]"
   ]
  },
  {
   "cell_type": "code",
   "execution_count": 59,
   "metadata": {},
   "outputs": [
    {
     "name": "stdout",
     "output_type": "stream",
     "text": [
      "<class 'pandas.core.frame.DataFrame'>\n",
      "Int64Index: 38 entries, 0 to 40\n",
      "Data columns (total 9 columns):\n",
      "Neighboorhood    38 non-null object\n",
      "sale_price       38 non-null float64\n",
      "count_sale       38 non-null int64\n",
      "rent_price       38 non-null float64\n",
      "count_rent       38 non-null int64\n",
      "count            38 non-null int64\n",
      "norm_resid       38 non-null float64\n",
      "outlier          38 non-null object\n",
      "name             38 non-null object\n",
      "dtypes: float64(3), int64(3), object(3)\n",
      "memory usage: 3.5+ KB\n"
     ]
    }
   ],
   "source": [
    "dfMerge.info()"
   ]
  },
  {
   "cell_type": "code",
   "execution_count": null,
   "metadata": {
    "collapsed": true
   },
   "outputs": [],
   "source": []
  }
 ],
 "metadata": {
  "kernelspec": {
   "display_name": "Python 2",
   "language": "python",
   "name": "python2"
  },
  "language_info": {
   "codemirror_mode": {
    "name": "ipython",
    "version": 2
   },
   "file_extension": ".py",
   "mimetype": "text/x-python",
   "name": "python",
   "nbconvert_exporter": "python",
   "pygments_lexer": "ipython2",
   "version": "2.7.13"
  }
 },
 "nbformat": 4,
 "nbformat_minor": 1
}
